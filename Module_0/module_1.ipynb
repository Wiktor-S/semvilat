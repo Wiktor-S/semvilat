{
 "cells": [
  {
   "cell_type": "code",
   "execution_count": 4,
   "metadata": {},
   "outputs": [
    {
     "name": "stdout",
     "output_type": "stream",
     "text": [
      "Загадано число от 1 до 100\n",
      "Загаданное число 52 угадано за 8 попыток\n"
     ]
    }
   ],
   "source": [
    "import numpy as np\n",
    "number = np.random.randint(1,101) # Загадали число\n",
    "print(f\"Загадано число от {1} до {100}\")\n",
    "\n",
    "\n",
    "def game_score(number):  # Функция принимает загаданное число и возвращает число попыток\n",
    "    count = 1  # счетчик попыток\n",
    "    left = 1  # левая граница диапазона\n",
    "    right = 100  # правая граница диапазона\n",
    "    predict = int()  # предполагаемое число\n",
    " \n",
    "    while predict != number:  # бесконечный цикл\n",
    "        count += 1  # добавляем попытку\n",
    "        predict = (left + right) // 2\n",
    "        if number == predict:\n",
    "            break   # выход из цикла при угадывании\n",
    "        elif number < predict:\n",
    "            right = predict - 1\n",
    "        elif number > predict:\n",
    "            left = predict + 1\n",
    "    return(count)\n",
    "print(f\"Загаданное число {number} угадано за {game_score(number)} попыток\")\n"
   ]
  },
  {
   "cell_type": "code",
   "execution_count": null,
   "metadata": {},
   "outputs": [],
   "source": []
  }
 ],
 "metadata": {
  "kernelspec": {
   "display_name": "Python 3",
   "language": "python",
   "name": "python3"
  },
  "language_info": {
   "codemirror_mode": {
    "name": "ipython",
    "version": 3
   },
   "file_extension": ".py",
   "mimetype": "text/x-python",
   "name": "python",
   "nbconvert_exporter": "python",
   "pygments_lexer": "ipython3",
   "version": "3.8.5"
  }
 },
 "nbformat": 4,
 "nbformat_minor": 4
}
